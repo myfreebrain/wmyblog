{
 "cells": [
  {
   "cell_type": "code",
   "execution_count": 12,
   "metadata": {},
   "outputs": [],
   "source": [
    "import pandas as pd\n",
    "\n",
    "tag_file = f\"../data/tag.pkl\"\n",
    "df_tag = pd.read_pickle(tag_file)\n",
    "\n",
    "comment_file = f\"../data/comment_full.pkl\"\n",
    "df_comment = pd.read_pickle(comment_file)"
   ]
  },
  {
   "cell_type": "code",
   "execution_count": 36,
   "metadata": {},
   "outputs": [
    {
     "data": {
      "text/html": [
       "<div>\n",
       "<style scoped>\n",
       "    .dataframe tbody tr th:only-of-type {\n",
       "        vertical-align: middle;\n",
       "    }\n",
       "\n",
       "    .dataframe tbody tr th {\n",
       "        vertical-align: top;\n",
       "    }\n",
       "\n",
       "    .dataframe thead th {\n",
       "        text-align: right;\n",
       "    }\n",
       "</style>\n",
       "<table border=\"1\" class=\"dataframe\">\n",
       "  <thead>\n",
       "    <tr style=\"text-align: right;\">\n",
       "      <th></th>\n",
       "      <th>md5</th>\n",
       "      <th>tag</th>\n",
       "    </tr>\n",
       "  </thead>\n",
       "  <tbody>\n",
       "    <tr>\n",
       "      <th>92</th>\n",
       "      <td>16c37dea776c72c650059123f8a4a962</td>\n",
       "      <td>问答1000/台湾、政治</td>\n",
       "    </tr>\n",
       "    <tr>\n",
       "      <th>161</th>\n",
       "      <td>c7c6dfa5f4dc77da20834da79c6af670</td>\n",
       "      <td>宣传/经济/台湾</td>\n",
       "    </tr>\n",
       "    <tr>\n",
       "      <th>603</th>\n",
       "      <td>5bcaaae86eb22d79eb2afb824994e8dc</td>\n",
       "      <td>台湾、经济</td>\n",
       "    </tr>\n",
       "    <tr>\n",
       "      <th>1110</th>\n",
       "      <td>60ba905ab96798638072f0f5811e12e5</td>\n",
       "      <td>问答1000/医学/台湾</td>\n",
       "    </tr>\n",
       "    <tr>\n",
       "      <th>2172</th>\n",
       "      <td>b71f0fad0d5921c342043ddfa7d4321d</td>\n",
       "      <td>历史/政治/美国/台湾</td>\n",
       "    </tr>\n",
       "    <tr>\n",
       "      <th>...</th>\n",
       "      <td>...</td>\n",
       "      <td>...</td>\n",
       "    </tr>\n",
       "    <tr>\n",
       "      <th>4166</th>\n",
       "      <td>a0eb628aafcc6815c2512b1290719a30</td>\n",
       "      <td>美国/政治/台湾/经济</td>\n",
       "    </tr>\n",
       "    <tr>\n",
       "      <th>4168</th>\n",
       "      <td>b5daeefcbcc8d89207148b6a3eb3f53d</td>\n",
       "      <td>台湾/中国/经济/政治</td>\n",
       "    </tr>\n",
       "    <tr>\n",
       "      <th>5000</th>\n",
       "      <td>4d8efa3796c17edf4dadf24f1a049e00</td>\n",
       "      <td>中华台湾。金融</td>\n",
       "    </tr>\n",
       "    <tr>\n",
       "      <th>5828</th>\n",
       "      <td>fc0f54b5e1f6e453582eeb3e268766a4</td>\n",
       "      <td>台湾/文化/政治</td>\n",
       "    </tr>\n",
       "    <tr>\n",
       "      <th>5829</th>\n",
       "      <td>e0a2ff8d02565f78a617b57414d9e8ca</td>\n",
       "      <td>政治/台湾</td>\n",
       "    </tr>\n",
       "  </tbody>\n",
       "</table>\n",
       "<p>77 rows × 2 columns</p>\n",
       "</div>"
      ],
      "text/plain": [
       "                                   md5           tag\n",
       "92    16c37dea776c72c650059123f8a4a962  问答1000/台湾、政治\n",
       "161   c7c6dfa5f4dc77da20834da79c6af670      宣传/经济/台湾\n",
       "603   5bcaaae86eb22d79eb2afb824994e8dc         台湾、经济\n",
       "1110  60ba905ab96798638072f0f5811e12e5  问答1000/医学/台湾\n",
       "2172  b71f0fad0d5921c342043ddfa7d4321d   历史/政治/美国/台湾\n",
       "...                                ...           ...\n",
       "4166  a0eb628aafcc6815c2512b1290719a30   美国/政治/台湾/经济\n",
       "4168  b5daeefcbcc8d89207148b6a3eb3f53d   台湾/中国/经济/政治\n",
       "5000  4d8efa3796c17edf4dadf24f1a049e00       中华台湾。金融\n",
       "5828  fc0f54b5e1f6e453582eeb3e268766a4      台湾/文化/政治\n",
       "5829  e0a2ff8d02565f78a617b57414d9e8ca         政治/台湾\n",
       "\n",
       "[77 rows x 2 columns]"
      ]
     },
     "execution_count": 36,
     "metadata": {},
     "output_type": "execute_result"
    }
   ],
   "source": [
    "df_tag.loc[df_tag[\"tag\"].isna(), \"tag\"] = \"\"\n",
    "df_tag.loc[df_tag[\"tag\"].str.contains(\"台湾\") & ~df_tag[\"tag\"].str.contains(\"中国台湾\")]"
   ]
  }
 ],
 "metadata": {
  "kernelspec": {
   "display_name": "Python 3",
   "language": "python",
   "name": "python3"
  },
  "language_info": {
   "codemirror_mode": {
    "name": "ipython",
    "version": 3
   },
   "file_extension": ".py",
   "mimetype": "text/x-python",
   "name": "python",
   "nbconvert_exporter": "python",
   "pygments_lexer": "ipython3",
   "version": "3.10.11"
  }
 },
 "nbformat": 4,
 "nbformat_minor": 4
}
