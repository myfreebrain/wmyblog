{
 "cells": [
  {
   "cell_type": "code",
   "execution_count": 1,
   "metadata": {},
   "outputs": [],
   "source": [
    "from wmyblog import *\n",
    "os.environ['http_proxy'] = \"http://127.0.0.1:7890\" #代理的端口\n",
    "os.environ['https_proxy'] = \"http://127.0.0.1:7890\""
   ]
  },
  {
   "cell_type": "code",
   "execution_count": null,
   "metadata": {},
   "outputs": [],
   "source": [
    "updateArticle()\n",
    "genHTMLAll() # 利用文章和评论的pkl文件生成独立的html文件 [不需要联网]\n",
    "genINDEX() # 生成文章目录index.html [不需要联网]"
   ]
  },
  {
   "cell_type": "code",
   "execution_count": null,
   "metadata": {},
   "outputs": [],
   "source": [
    "def exportJSON(articleFile,commentFile,jsonFile):\n",
    "    df_article = pd.read_pickle(articleFile)\n",
    "    df_comment = pd.read_pickle(commentFile)\n",
    "\n",
    "    article_list = []\n",
    "    title_dict = {}\n",
    "    for i in df_article.index:\n",
    "        id = df_article.id[i]\n",
    "        title = df_article.title[i]\n",
    "        title_dict[id] = title\n",
    "        art_date = df_article.art_date[i]\n",
    "        post = df_article.post[i]\n",
    "        article_list.append({\"id\":id,\"title\":title,\"date\":art_date.strftime('%Y-%m-%d %H:%M:%S'),\"post\":post})\n",
    "\n",
    "    comment_list = []\n",
    "    for i in df_comment.index:\n",
    "        id = df_comment.id[i]\n",
    "        title = title_dict[id]\n",
    "        nickname = df_comment.nickname[i]\n",
    "        comment = df_comment.comment[i]\n",
    "        comment_date = df_comment.comment_date[i]\n",
    "        reply = df_comment.reply[i]\n",
    "        if reply:\n",
    "            comment_list.append({\"id\":id,\"title\":title,\"nickname\":nickname,\"date\":comment_date.strftime('%Y-%m-%d %H:%M:%S'),\"comment\":comment,\"reply\":reply})\n",
    "\n",
    "    wmy = {\"article\":article_list,\"comment\":comment_list}\n",
    "    with open(jsonFile,'w') as f:\n",
    "        f.write(json.dumps(wmy))"
   ]
  }
 ],
 "metadata": {
  "interpreter": {
   "hash": "655ead04705df25979b098d70d07560a40ffb3d6c4aa160f4c4d023dee151a17"
  },
  "kernelspec": {
   "display_name": "Python 3.9.5 64-bit",
   "language": "python",
   "name": "python3"
  },
  "language_info": {
   "codemirror_mode": {
    "name": "ipython",
    "version": 3
   },
   "file_extension": ".py",
   "mimetype": "text/x-python",
   "name": "python",
   "nbconvert_exporter": "python",
   "pygments_lexer": "ipython3",
   "version": "3.9.5"
  },
  "orig_nbformat": 4
 },
 "nbformat": 4,
 "nbformat_minor": 2
}
