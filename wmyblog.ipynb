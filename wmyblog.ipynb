{
 "cells": [
  {
   "cell_type": "code",
   "execution_count": 1,
   "metadata": {},
   "outputs": [],
   "source": [
    "from wmyblog import *\n",
    "os.environ['http_proxy'] = \"http://127.0.0.1:7890\" #代理的端口\n",
    "os.environ['https_proxy'] = \"http://127.0.0.1:7890\""
   ]
  },
  {
   "cell_type": "code",
   "execution_count": null,
   "metadata": {},
   "outputs": [],
   "source": [
    "updateArticle()\n",
    "genHTMLAll() # 利用文章和评论的pkl文件生成独立的html文件 [不需要联网]\n",
    "genINDEX() # 生成文章目录index.html [不需要联网]"
   ]
  },
  {
   "cell_type": "code",
   "execution_count": 1,
   "metadata": {},
   "outputs": [],
   "source": [
    "import requests,json\n",
    "url = 'https://wap.fj.10086.cn/store/api/lactivity/xiamen/region_flow'"
   ]
  },
  {
   "cell_type": "code",
   "execution_count": 9,
   "metadata": {},
   "outputs": [],
   "source": [
    "from email import header\n",
    "from ssl import SSLContext\n",
    "\n",
    "headers = {\n",
    "    'Cookie': 'WT_FPC=id=2b1f2e714719ef58fbc1613786757893:lv=1613789959014:ss=1613789959014; JSESSIONID=B0CC0DF3472FAB98BEF5ED38087E493B; fjydwtf5id=468791306.23067.0000; XSRF-TOKEN=eyJpdiI6ImlVcGRIaGpQWHBFeTZcL2VqamlLUVN3PT0iLCJ2YWx1ZSI6IkdWQWhTbXIyNDdLUGpET0kzQmE5XC9ld3hCQTBLcjJzcm83VlR5NG5KOHdlNDMwTGp5VFRFNlh6OGxPSEVBZmVpIiwibWFjIjoiNzJjYjE2MzVjMzc4MWNjM2E0ZDQ3Njg5MmI4NjgzZjBmNWYxMWMyZjc5NmJmMzZlYzVlNjliYzkzN2M4NGQ2YiJ9; laravel_session=eyJpdiI6ImpvMld1NkRkYUFrS3JhWjFVUVwvN3JRPT0iLCJ2YWx1ZSI6InA2K0dESzFMaDl4b2l4OUNRbDlWSks2cG9TNkZuWW9RMkFrSTJyanVNa0hnRmM4Q3M2b1A2d1BEUGpoM1d5UTd1YTZoZTYxNlFPdVg3dGJwY0tqa3hteUFvWllZTWUyRm1lRXRGUmFmOHRWbVV5UEFzRlV1b29LXC9VMWZzMlFVOSIsIm1hYyI6Ijg1Y2ZhNmY3MDk5N2M5YjMzYWJhMGYxMWM2NDE2YzdhN2ZkNThkN2Y4MDk1YWE1ZjI4YWRhMzM5NjJhYWZiMzgifQ%3D%3D'\n",
    "}\n",
    "l = json.loads(requests.get(url,headers=headers).content)['data']"
   ]
  },
  {
   "cell_type": "code",
   "execution_count": 14,
   "metadata": {},
   "outputs": [
    {
     "name": "stdout",
     "output_type": "stream",
     "text": [
      "169\n",
      "597\n"
     ]
    }
   ],
   "source": [
    "for i in range(len(l['data'])):\n",
    "    if '大舞台' in l['data'][i]['region_name']:\n",
    "        print(i)"
   ]
  },
  {
   "cell_type": "code",
   "execution_count": 15,
   "metadata": {},
   "outputs": [
    {
     "data": {
      "text/plain": [
       "{'region_id': '4808',\n",
       " 'region_name': '高殿社区高殿大舞台旁篮球场采集点',\n",
       " 'flow': 0,\n",
       " 'intensity': 0,\n",
       " 'area': '湖里区',\n",
       " 'street': '殿前街道',\n",
       " 'status': '1',\n",
       " 'point_lon': '118.1052',\n",
       " 'point_lat': '24.53157',\n",
       " 'sample_time': '',\n",
       " 'estimated_queue_time': ''}"
      ]
     },
     "execution_count": 15,
     "metadata": {},
     "output_type": "execute_result"
    }
   ],
   "source": [
    "l['data'][169]"
   ]
  }
 ],
 "metadata": {
  "kernelspec": {
   "display_name": "Python 3.10.6 64-bit (windows store)",
   "language": "python",
   "name": "python3"
  },
  "language_info": {
   "codemirror_mode": {
    "name": "ipython",
    "version": 3
   },
   "file_extension": ".py",
   "mimetype": "text/x-python",
   "name": "python",
   "nbconvert_exporter": "python",
   "pygments_lexer": "ipython3",
   "version": "3.10.6"
  },
  "orig_nbformat": 4,
  "vscode": {
   "interpreter": {
    "hash": "90865e3cdbb82f86e92b956c6fae1fc113a1d7f58e6840ad2be91eb58a86aac9"
   }
  }
 },
 "nbformat": 4,
 "nbformat_minor": 2
}
