{
 "cells": [
  {
   "cell_type": "code",
   "execution_count": 1,
   "metadata": {},
   "outputs": [],
   "source": [
    "from wmyblog import *\n",
    "os.environ['http_proxy'] = \"http://127.0.0.1:7890\" #代理的端口\n",
    "os.environ['https_proxy'] = \"http://127.0.0.1:7890\""
   ]
  },
  {
   "cell_type": "code",
   "execution_count": 4,
   "metadata": {},
   "outputs": [],
   "source": [
    "import pandas as pd\n",
    "def mergeComment(df_comment_new,commentFile='./data/comment_full.pkl',tag=''):\n",
    "\n",
    "    df_comment = pd.read_pickle(commentFile)\n",
    "    min_comment_date = \n",
    "    df_comment1 = df_comment.loc[df_comment.comment_date >= min(df_comment_new.comment_date)]\n",
    "    df_comment2 = df_comment.loc[df_comment.comment_date < min(df_comment_new.comment_date)]\n",
    "\n",
    "    id_list = df_comment.id.drop_duplicates()\n",
    "    for id in id_list:\n",
    "        d_new = df_comment_new.loc[df_comment_new.id == id]\n",
    "        if not d_new.empty:\n",
    "            d = df_comment1.loc[(df_comment1.id == id) & (df_comment1.comment_date >= min(d_new.comment_date))]\n",
    "            if tag == 'full':\n",
    "                idx0 = (df_comment1.id == id) & (df_comment1.comment_date < min(d_new.comment_date))\n",
    "                df_comment1.loc[idx0,'comment'] = '<strike>'+df_comment1.loc[idx0,'comment']+'</strike>'\n",
    "            d_merge = pd.merge(d_new,d,how='outer',on='comment',indicator=True)\n",
    "            for idx in d_merge.loc[d_merge['_merge'] == 'right_only'].index:\n",
    "                comment_date = d_merge.loc[idx,'comment_date_y']\n",
    "                nickname = d_merge.loc[idx,'nickname_y']\n",
    "                idx1 = (df_comment1.comment_date == comment_date) & (df_comment1.nickname == nickname)\n",
    "                df_comment1.loc[idx1,'comment'] = '<strike>'+df_comment1.loc[idx1,'comment']+'</strike>'\n",
    "            for idx in d_merge.loc[d_merge['_merge'] == 'both'].index:\n",
    "                comment_date = d_merge.loc[idx,'comment_date_y']\n",
    "                nickname = d_merge.loc[idx,'nickname_y']\n",
    "                idx1 = (df_comment_new.comment_date == comment_date) & (df_comment_new.nickname == nickname)\n",
    "                idx2 = (df_comment1.comment_date == comment_date) & (df_comment1.nickname == nickname)\n",
    "                if ~ df_comment1['first_reply_date'].isnull()[idx2].iloc[0]:\n",
    "                    df_comment_new.loc[idx1,'first_reply_date'] = df_comment1.loc[idx2,'first_reply_date'].iloc[0]\n",
    "    df_comment_new = pd.concat([df_comment_new,df_comment1],ignore_index=True).drop_duplicates(subset=['nickname','comment_date'])\n",
    "    df_comment_new = pd.concat([df_comment_new,df_comment2],ignore_index=True)\n",
    "    df_comment_new.comment = df_comment_new.comment.str.replace('<strike><strike>','<strike>').str.replace('</strike></strike>','</strike>')\n",
    "    df_comment_new = df_comment_new.sort_values('comment_date',ascending=False).reset_index(drop=True)\n",
    "    return df_comment_new"
   ]
  },
  {
   "cell_type": "code",
   "execution_count": 20,
   "metadata": {},
   "outputs": [],
   "source": [
    "df_comment_new = pd.read_pickle('comment.pkl')\n",
    "#df_comment_new = mergeComment(df_comment_new)"
   ]
  },
  {
   "cell_type": "code",
   "execution_count": 44,
   "metadata": {},
   "outputs": [
    {
     "data": {
      "text/plain": [
       "Timestamp('2017-10-31 04:28:00')"
      ]
     },
     "execution_count": 44,
     "metadata": {},
     "output_type": "execute_result"
    }
   ],
   "source": [
    "min(df_comment_new.comment_date.dropna())"
   ]
  },
  {
   "cell_type": "code",
   "execution_count": 41,
   "metadata": {},
   "outputs": [
    {
     "data": {
      "text/plain": [
       "NaT"
      ]
     },
     "execution_count": 41,
     "metadata": {},
     "output_type": "execute_result"
    }
   ],
   "source": [
    "min(df_comment_new.comment_date[0:1434])"
   ]
  },
  {
   "cell_type": "code",
   "execution_count": 29,
   "metadata": {},
   "outputs": [
    {
     "data": {
      "text/plain": [
       "pandas._libs.tslibs.nattype.NaTType"
      ]
     },
     "execution_count": 29,
     "metadata": {},
     "output_type": "execute_result"
    }
   ],
   "source": [
    "type(df_comment_new.comment_date[0])"
   ]
  }
 ],
 "metadata": {
  "kernelspec": {
   "display_name": "Python 3.10.6 64-bit (microsoft store)",
   "language": "python",
   "name": "python3"
  },
  "language_info": {
   "codemirror_mode": {
    "name": "ipython",
    "version": 3
   },
   "file_extension": ".py",
   "mimetype": "text/x-python",
   "name": "python",
   "nbconvert_exporter": "python",
   "pygments_lexer": "ipython3",
   "version": "3.10.6"
  },
  "orig_nbformat": 4,
  "vscode": {
   "interpreter": {
    "hash": "90865e3cdbb82f86e92b956c6fae1fc113a1d7f58e6840ad2be91eb58a86aac9"
   }
  }
 },
 "nbformat": 4,
 "nbformat_minor": 2
}
