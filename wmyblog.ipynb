{
 "cells": [
  {
   "cell_type": "code",
   "execution_count": 1,
   "metadata": {},
   "outputs": [],
   "source": [
    "from wmyblog import *\n",
    "os.environ['http_proxy'] = \"http://127.0.0.1:7890\" #代理的端口\n",
    "os.environ['https_proxy'] = \"http://127.0.0.1:7890\""
   ]
  },
  {
   "cell_type": "code",
   "execution_count": null,
   "metadata": {},
   "outputs": [],
   "source": [
    "updateArticle()\n",
    "genHTMLAll() # 利用文章和评论的pkl文件生成独立的html文件 [不需要联网]\n",
    "genINDEX() # 生成文章目录index.html [不需要联网]"
   ]
  }
 ],
 "metadata": {
  "interpreter": {
   "hash": "655ead04705df25979b098d70d07560a40ffb3d6c4aa160f4c4d023dee151a17"
  },
  "kernelspec": {
   "display_name": "Python 3.9.5 64-bit",
   "language": "python",
   "name": "python3"
  },
  "language_info": {
   "codemirror_mode": {
    "name": "ipython",
    "version": 3
   },
   "file_extension": ".py",
   "mimetype": "text/x-python",
   "name": "python",
   "nbconvert_exporter": "python",
   "pygments_lexer": "ipython3",
   "version": "3.9.5"
  },
  "orig_nbformat": 4
 },
 "nbformat": 4,
 "nbformat_minor": 2
}
